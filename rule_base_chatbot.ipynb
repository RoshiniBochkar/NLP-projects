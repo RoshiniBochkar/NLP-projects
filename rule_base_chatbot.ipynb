{
  "nbformat": 4,
  "nbformat_minor": 0,
  "metadata": {
    "colab": {
      "provenance": [],
      "authorship_tag": "ABX9TyMREWP3QpfUeNafcbqkXzmQ",
      "include_colab_link": true
    },
    "kernelspec": {
      "name": "python3",
      "display_name": "Python 3"
    },
    "language_info": {
      "name": "python"
    }
  },
  "cells": [
    {
      "cell_type": "markdown",
      "metadata": {
        "id": "view-in-github",
        "colab_type": "text"
      },
      "source": [
        "<a href=\"https://colab.research.google.com/github/Bayapu-Reddy/Nlp/blob/main/rule_base_chatbot.ipynb\" target=\"_parent\"><img src=\"https://colab.research.google.com/assets/colab-badge.svg\" alt=\"Open In Colab\"/></a>"
      ]
    },
    {
      "cell_type": "code",
      "execution_count": 1,
      "metadata": {
        "id": "hfQTg1ebvjpp"
      },
      "outputs": [],
      "source": [
        "import nltk\n",
        "\n",
        "import re\n",
        "\n",
        "from nltk.chat.util import Chat, reflections\n",
        "\n",
        "\n",
        "\n",
        "\n"
      ]
    },
    {
      "cell_type": "code",
      "source": [
        "\n",
        "\n",
        "nltk.download('punkt')\n",
        "\n",
        "nltk.download('averaged_perceptron_tagger')\n",
        "\n",
        "\n",
        "\n",
        "\n"
      ],
      "metadata": {
        "colab": {
          "base_uri": "https://localhost:8080/"
        },
        "id": "C_ILslUqvk7e",
        "outputId": "a5184812-f595-4b04-c5a3-1e02fec3e50f"
      },
      "execution_count": 2,
      "outputs": [
        {
          "output_type": "stream",
          "name": "stderr",
          "text": [
            "[nltk_data] Downloading package punkt to /root/nltk_data...\n",
            "[nltk_data]   Unzipping tokenizers/punkt.zip.\n",
            "[nltk_data] Downloading package averaged_perceptron_tagger to\n",
            "[nltk_data]     /root/nltk_data...\n",
            "[nltk_data]   Unzipping taggers/averaged_perceptron_tagger.zip.\n"
          ]
        },
        {
          "output_type": "execute_result",
          "data": {
            "text/plain": [
              "True"
            ]
          },
          "metadata": {},
          "execution_count": 2
        }
      ]
    },
    {
      "cell_type": "code",
      "source": [
        "\n",
        "\n",
        "pairs = [\n",
        "\n",
        "    [r\"my name is (.*)\", [\"Hello %1, how can I assist you today?\",]],\n",
        "\n",
        "    [r\"hi|hey|hello\", [\"Hello, how can I help you?\", \"Hey there! What can I do for you?\",\n",
        "\n",
        "                       \"Hi! How can I assist you today?\"]],\n",
        "\n",
        "    [r\"what is your name?\", [\"I am a chatbot created to assist you. You can call me Chatbot.\",]],\n",
        "\n",
        "    [r\"how are you?\", [\"I'm a bot, so I don't have feelings, but I'm here to help you!\",]],\n",
        "\n",
        "    [r\"can you help me with (.*)\", [\"Sure, I can help you with %1. Please provide more details.\",]],\n",
        "\n",
        "    [r\"sorry (.*)\", [\"It's okay. How can I assist you?\",]],\n",
        "\n",
        "    [r\"thank you|thanks\", [\"You're welcome!\", \"No problem!\", \"Happy to help!\"]],\n",
        "\n",
        "    [r\"quit\", [\"Bye! Have a great day!\", \"Goodbye!\"]],\n",
        "\n",
        "    [r\"(.*)\", [\"I'm sorry, I don't understand that. Can you rephrase?\",\n",
        "\n",
        "               \"Could you please elaborate on that?\"]]\n",
        "\n",
        "]\n",
        "\n",
        "\n",
        "\n",
        "\n"
      ],
      "metadata": {
        "id": "lppmB9jAvmv6"
      },
      "execution_count": 3,
      "outputs": []
    },
    {
      "cell_type": "code",
      "source": [
        "class RBChatbot:\n",
        "  def __init__(self,pairs):\n",
        "    self.chat = Chat(pairs, reflections)\n",
        "\n",
        "  def respond(self, user_input):\n",
        "    return self.chat.respond(user_input)\n",
        "\n",
        "chatbot=RBChatbot(pairs)"
      ],
      "metadata": {
        "id": "Xj5rdMB3vvDV"
      },
      "execution_count": 5,
      "outputs": []
    },
    {
      "cell_type": "code",
      "source": [
        "def Chat_with_bot():\n",
        "  print(\"Bhai Namstey, kya haal hai?🕺. (Type 'quit' to exit)\")\n",
        "  while True:\n",
        "    user_input=input(\"You: \")\n",
        "    if user_input.lower()=='quit':\n",
        "      print(\"Chatbot: chalo fir baadh mey miltey hai👍\")\n",
        "      break\n",
        "    response=chatbot.respond(user_input)\n",
        "    print(\"Chatbot:\",response)\n"
      ],
      "metadata": {
        "id": "dKFrPA4M3XY7"
      },
      "execution_count": 12,
      "outputs": []
    },
    {
      "cell_type": "code",
      "source": [
        "Chat_with_bot()\n"
      ],
      "metadata": {
        "colab": {
          "base_uri": "https://localhost:8080/"
        },
        "id": "dXT7DbV53xw0",
        "outputId": "971736e7-36b9-4323-d5a9-841bec87535e"
      },
      "execution_count": 13,
      "outputs": [
        {
          "output_type": "stream",
          "name": "stdout",
          "text": [
            "Bhai Namstey, kya haal hai?🕺. (Type 'quit' to exit)\n",
            "You: bhai ka birthday\n",
            "Chatbot: I'm sorry, I don't understand that. Can you rephrase?\n",
            "You: quit\n",
            "Chatbot: chalo fir baadh mey miltey hai👍\n"
          ]
        }
      ]
    },
    {
      "cell_type": "code",
      "source": [
        "Chat_with_bot()\n"
      ],
      "metadata": {
        "colab": {
          "base_uri": "https://localhost:8080/"
        },
        "id": "glHwT0Xd3903",
        "outputId": "43f2f499-57a7-4906-8d1f-ffdbd4a23eb7"
      },
      "execution_count": 14,
      "outputs": [
        {
          "output_type": "stream",
          "name": "stdout",
          "text": [
            "Bhai Namstey, kya haal hai?🕺. (Type 'quit' to exit)\n",
            "You: hi\n",
            "Chatbot: Hey there! What can I do for you?\n",
            "You: my name is batman\n",
            "Chatbot: Hello batman, how can I assist you today?\n",
            "You: what is your name?\n",
            "Chatbot: I am a chatbot created to assist you. You can call me Chatbot.\n",
            "You: how are you?\n",
            "Chatbot: I'm a bot, so I don't have feelings, but I'm here to help you!\n",
            "You: can you help me with cricket\n",
            "Chatbot: Sure, I can help you with cricket. Please provide more details.\n",
            "You: sorry , i am blind\n",
            "Chatbot: It's okay. How can I assist you?\n",
            "You: thank you\n",
            "Chatbot: You're welcome!\n",
            "You: quit\n",
            "Chatbot: chalo fir baadh mey miltey hai👍\n"
          ]
        }
      ]
    },
    {
      "cell_type": "code",
      "source": [],
      "metadata": {
        "id": "KcbJ1vwz5a57"
      },
      "execution_count": null,
      "outputs": []
    }
  ]
}