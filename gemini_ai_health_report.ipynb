{
  "nbformat": 4,
  "nbformat_minor": 0,
  "metadata": {
    "colab": {
      "provenance": [],
      "authorship_tag": "ABX9TyP0beTAPKiaG7NOp9dmzhkb",
      "include_colab_link": true
    },
    "kernelspec": {
      "name": "python3",
      "display_name": "Python 3"
    },
    "language_info": {
      "name": "python"
    }
  },
  "cells": [
    {
      "cell_type": "markdown",
      "metadata": {
        "id": "view-in-github",
        "colab_type": "text"
      },
      "source": [
        "<a href=\"https://colab.research.google.com/github/Bayapu-Reddy/Nlp/blob/main/gemini_ai_health_report.ipynb\" target=\"_parent\"><img src=\"https://colab.research.google.com/assets/colab-badge.svg\" alt=\"Open In Colab\"/></a>"
      ]
    },
    {
      "cell_type": "code",
      "execution_count": 4,
      "metadata": {
        "id": "qOygwssX-D5b"
      },
      "outputs": [],
      "source": [
        "import google.generativeai as genai\n",
        "from google.colab import userdata\n",
        "GOOGLE_API_KEY=userdata.get('GOOGLE_API_KEY')\n",
        "genai.configure(api_key=GOOGLE_API_KEY)"
      ]
    },
    {
      "cell_type": "code",
      "source": [
        "!pip install PyPDF2"
      ],
      "metadata": {
        "colab": {
          "base_uri": "https://localhost:8080/"
        },
        "id": "MYOGzObA-dkH",
        "outputId": "8fe38e24-1b18-4fd2-f44f-d0867b66f832"
      },
      "execution_count": 6,
      "outputs": [
        {
          "output_type": "stream",
          "name": "stdout",
          "text": [
            "Collecting PyPDF2\n",
            "  Downloading pypdf2-3.0.1-py3-none-any.whl.metadata (6.8 kB)\n",
            "Downloading pypdf2-3.0.1-py3-none-any.whl (232 kB)\n",
            "\u001b[?25l   \u001b[90m━━━━━━━━━━━━━━━━━━━━━━━━━━━━━━━━━━━━━━━━\u001b[0m \u001b[32m0.0/232.6 kB\u001b[0m \u001b[31m?\u001b[0m eta \u001b[36m-:--:--\u001b[0m\r\u001b[2K   \u001b[91m━━━━━━━━━━━━━━━━━━━━━━━━━━━━━━━━━━━━━━\u001b[0m\u001b[91m╸\u001b[0m\u001b[90m━\u001b[0m \u001b[32m225.3/232.6 kB\u001b[0m \u001b[31m6.5 MB/s\u001b[0m eta \u001b[36m0:00:01\u001b[0m\r\u001b[2K   \u001b[90m━━━━━━━━━━━━━━━━━━━━━━━━━━━━━━━━━━━━━━━━\u001b[0m \u001b[32m232.6/232.6 kB\u001b[0m \u001b[31m4.6 MB/s\u001b[0m eta \u001b[36m0:00:00\u001b[0m\n",
            "\u001b[?25hInstalling collected packages: PyPDF2\n",
            "Successfully installed PyPDF2-3.0.1\n"
          ]
        }
      ]
    },
    {
      "cell_type": "code",
      "source": [
        "import PyPDF2\n",
        "\n",
        "def extract_text_from_pdf(pdf_path):\n",
        "    \"\"\"Extracts text from a given health report PDF using PyPDF2.\"\"\"\n",
        "    text = \"\"\n",
        "    with open(pdf_path, \"rb\") as file:\n",
        "        reader = PyPDF2.PdfReader(file)\n",
        "        for page in reader.pages:\n",
        "            text += page.extract_text() + \"\\n\"\n",
        "    return text"
      ],
      "metadata": {
        "id": "4PPeMQHWA2jm"
      },
      "execution_count": 8,
      "outputs": []
    },
    {
      "cell_type": "code",
      "source": [
        "def extract_health_insights(text):\n",
        "    \"\"\"Asks GEMINI AI to extract key medical insights from the report.\"\"\"\n",
        "    model=genai.GenerativeModel(\"gemini-1.5-flash\")\n",
        "    prompt=f\"extract key insights from the following health report:\\n\\n{text}\"\n",
        "    response=model.generate_content(prompt)\n",
        "    return response.text\n",
        "\n",
        "pdf_file=\"health_report.pdf\"\n",
        "extracted_text=extract_text_from_pdf(pdf_file)\n",
        "insights=extract_health_insights(extracted_text)\n",
        "print(\"key Insights:\\n\",insights)\n"
      ],
      "metadata": {
        "colab": {
          "base_uri": "https://localhost:8080/",
          "height": 602
        },
        "id": "Pr1iqRyHBELH",
        "outputId": "06685009-d8c1-4b24-b039-5f426490842e"
      },
      "execution_count": 12,
      "outputs": [
        {
          "output_type": "stream",
          "name": "stdout",
          "text": [
            "key Insights:\n",
            " **Key Insights from Mr. Kishan Goud's Health Report (MR2100003157):**\n",
            "\n",
            "The report reveals several findings from various blood tests conducted on 01/02/2021.  Here's a summary:\n",
            "\n",
            "**Infectious Diseases:**\n",
            "\n",
            "* **Negative for Dengue:**  Tests for Dengue NS1 antigen, IgG, and IgM were all negative.\n",
            "* **Widal Test:**  Elevated titers for *Salmonella Typhi* \"O\" (1:160) and \"H\" (1:80)  suggest a possible past or recent *Salmonella Typhi* infection.  The titers for *Salmonella Paratyphi* \"AH\" and \"BH\" are within the normal range.  (Note:  Widal test results should be interpreted cautiously and in conjunction with clinical presentation).\n",
            "* **Negative for Malaria:**  Rapid Malaria tests (P.V and P.F) were negative.\n",
            "\n",
            "\n",
            "**Hematology:**\n",
            "\n",
            "* **Elevated ESR:** Erythrocyte Sedimentation Rate (ESR) is significantly elevated (26 mm/hr in the first hour, 52 mm/hr in the second hour).  This indicates inflammation in the body, but the cause is not identified by these tests alone.\n",
            "* **Complete Blood Count (CBC):**  Most CBC values are within normal limits, including Hemoglobin, RBC, WBC, Platelets, and PCV. Differential count also shows normal ranges for all cell types.\n",
            "\n",
            "\n",
            "**Biochemistry:**\n",
            "\n",
            "* **Liver Function Tests (LFTs):**  All liver function markers (bilirubin, alkaline phosphatase, SGOT, SGPT, total protein, albumin, globulin, A/G ratio) are within normal ranges.\n",
            "* **Kidney Function Test:** Serum Creatinine is within the normal range.\n",
            "* **Blood Glucose:** Random blood glucose is within the normal range.\n",
            "* **HbA1c:** HbA1c level of 5.4% is in the normal non-diabetic range.\n",
            "* **Electrolytes:** Serum sodium is slightly low (122 mmol/l) while potassium and chloride are within normal limits.  Low sodium needs further investigation and clinical correlation.\n",
            "\n",
            "\n",
            "**Overall:**\n",
            "\n",
            "The most notable findings are the elevated ESR and the positive Widal test (suggestive of *Salmonella Typhi* infection).  The low serum sodium also requires attention.  The other tests are largely unremarkable.  **It is crucial to remember that these lab results alone do not provide a diagnosis.**  They must be interpreted in conjunction with the patient's clinical symptoms, medical history, and physical examination findings by Dr. Krishna Prasad to determine the appropriate diagnosis and treatment.\n",
            "\n"
          ]
        }
      ]
    },
    {
      "cell_type": "code",
      "source": [
        "def summarize_health_report(text):\n",
        "  \"\"\"summarizes the health report using gemini ai.\"\"\"\n",
        "  model=genai.GenerativeModel(\"gemini-1.5-flash\")\n",
        "  prompt=f\"summarize the following health report in concise manner:\\n\\n{text}\"\n",
        "  response=model.generate_content(prompt)\n",
        "  return response.text\n",
        "\n",
        "summary=summarize_health_report(extracted_text)\n",
        "print(\"Summary:\\n\",summary)\n"
      ],
      "metadata": {
        "colab": {
          "base_uri": "https://localhost:8080/",
          "height": 347
        },
        "id": "4lrrO4vTEf9Z",
        "outputId": "1c1c9708-d6aa-464d-9c4f-16449dd0bce5"
      },
      "execution_count": 13,
      "outputs": [
        {
          "output_type": "stream",
          "name": "stdout",
          "text": [
            "Summary:\n",
            " Mr. Kishan Goud's (MRN: MR2100003157) blood tests on 01/02/2021 showed:\n",
            "\n",
            "* **Widal Test:** Elevated titers for *Salmonella Typhi* \"O\" (1:160) and \"H\" (1:80),  suggesting possible typhoid fever.  *Salmonella Paratyphi* \"A\" and \"B\" titers were within normal range.\n",
            "* **Dengue Serology:** Negative for NS1 antigen, IgG, and IgM antibodies.\n",
            "* **ESR:** Elevated (26 mm/hr in the first hour, 52 mm/hr in the second hour), indicating inflammation.\n",
            "* **Malaria Test:** Negative for *Plasmodium falciparum* and *Plasmodium vivax*.\n",
            "* **Complete Blood Picture:** Hemoglobin, RBC, WBC, platelets, and PCV within normal ranges. Differential count also within normal limits.\n",
            "* **HbA1c:** 5.4%, indicating good blood sugar control.\n",
            "* **Serum Creatinine:** 0.8 mg/dl (within normal range).\n",
            "* **Random Blood Glucose:**  (Value missing from report).\n",
            "* **Liver Function Tests:** All values within normal ranges except for a slightly elevated ESR.\n",
            "* **Serum Electrolytes:** Sodium slightly low (122 mmol/l), potassium and chloride within normal range.\n",
            "\n",
            "\n",
            "**Overall:** The elevated Widal test and ESR suggest a possible typhoid infection.  Further investigation may be needed.  The other tests generally showed normal results.\n",
            "\n"
          ]
        }
      ]
    },
    {
      "cell_type": "code",
      "source": [
        "def detect_abnormalities(text):\n",
        "  \"\"\"analyze lab test resluts and flags abnormal values\"\"\"\n",
        "  model=genai.GenerativeModel(\"gemini-1.5-flash\")\n",
        "  prompt=f\"Analyze the lab test results in the following health report and highlights any abnormal values:\\n\\n{text}\"\n",
        "  response=model.generate_content(prompt)\n",
        "  return response.text\n",
        "\n",
        "abnormalities=detect_abnormalities(extracted_text)\n",
        "print(\"abnormalities:\\n\",abnormalities)"
      ],
      "metadata": {
        "colab": {
          "base_uri": "https://localhost:8080/",
          "height": 292
        },
        "id": "GZNj9Es1FEyC",
        "outputId": "af2278bb-a303-449c-ece3-7f97a4c025e9"
      },
      "execution_count": 15,
      "outputs": [
        {
          "output_type": "stream",
          "name": "stdout",
          "text": [
            "abnormalities:\n",
            " The following lab results for Mr. Kishan Goud show values outside the provided reference ranges:\n",
            "\n",
            "* **Widal Test:**  S. Typhi \"O\" (1:160) and S. Typhi \"H\" (1:80) are significantly higher than the reference range (1:20). This suggests a possible past or present *Salmonella Typhi* infection.  Further investigation and clinical correlation are necessary.\n",
            "\n",
            "* **ESR (Erythrocyte Sedimentation Rate):**  Both the 1st hour (26 mm/hr) and 2nd hour (52 mm/hr) ESR values are elevated compared to the reference range (0-8 mm/hr for the 1st hour).  This indicates inflammation or infection somewhere in the body.\n",
            "\n",
            "* **Serum Sodium:** The serum sodium level of 122 mmol/l is below the reference range of 135-146 mmol/l. This is considered hyponatremia, indicating low sodium levels in the blood.  This requires further investigation and clinical management.\n",
            "\n",
            "* **Serum Chloride:** The serum chloride level of 97 mmol/l is slightly below the reference range of 98-107 mmol/l. While it's close to the lower limit, it might be clinically significant depending on the patient's overall condition and other electrolyte levels.\n",
            "\n",
            "\n",
            "**Other Results:**  All other results are within the provided reference ranges, including those for dengue, malaria, complete blood count (CBC), liver function tests (LFTs), and HbA1c.  However, the abnormal values mentioned above warrant further medical attention and evaluation to determine the underlying cause.  The elevated ESR, in particular, needs to be investigated to determine the source of inflammation. The low sodium and slightly low chloride should be evaluated in the context of the patient's clinical presentation and other findings.\n",
            "\n"
          ]
        }
      ]
    },
    {
      "cell_type": "code",
      "source": [
        "def explain_medical_terms(text):\n",
        "  \"\"\"asks gemai to explain terms\"\"\"\n",
        "  model=genai.GenerativeModel(\"gemini-1.5-flash\")\n",
        "  prompt=f\"explain the following medical terms:\\n\\n{text}\"\n",
        "  response=model.generate_content(prompt)\n",
        "  return response.text\n",
        "\n",
        "explanation=explain_medical_terms(extracted_text)\n",
        "print(\"explanation:\\n\",explanation)\n",
        ""
      ],
      "metadata": {
        "colab": {
          "base_uri": "https://localhost:8080/",
          "height": 1000
        },
        "id": "svdWYRlpGo7B",
        "outputId": "d1459ae2-7c47-43fc-d39b-afb5adf41c6f"
      },
      "execution_count": 17,
      "outputs": [
        {
          "output_type": "stream",
          "name": "stdout",
          "text": [
            "explanation:\n",
            " This report shows the results of various blood tests performed on Mr. Kishan Goud. Let's break down each section:\n",
            "\n",
            "**1. WIDAL Test (Serology):** This test detects antibodies against *Salmonella* bacteria, which cause typhoid fever and paratyphoid fever.  The results are reported as dilutions.  A higher dilution indicating a stronger antibody response (and thus likely infection).\n",
            "\n",
            "* **S. Typhi \"O\" 1:160:**  This indicates a relatively high antibody titer (1:160 dilution) against the \"O\" antigen of *Salmonella Typhi*.  The \"O\" antigen is a somatic antigen (part of the bacteria's cell wall).  A titer of 1:160 suggests a possible past or current infection with typhoid fever.  Note that a positive result doesn't confirm active infection, and further investigation might be necessary.\n",
            "* **S. Typhi \"H\" 1:80:** This shows a moderate antibody titer (1:80 dilution) against the \"H\" antigen of *Salmonella Typhi*. The \"H\" antigen is a flagellar antigen (part of the bacteria's flagella, used for movement).  A titer of 1:80 is also suggestive but less strong than the \"O\" result.\n",
            "* **S. Paratyphi \"AH\" 1:20:** Antibody titer against the \"AH\" antigen of *Salmonella Paratyphi A* is within the reference range (1:20), suggesting no significant infection.\n",
            "* **S. Paratyphi \"BH\" 1:20:** Antibody titer against the \"BH\" antigen of *Salmonella Paratyphi B* is also within the reference range (1:20), suggesting no significant infection.\n",
            "* **Reference Range (1:20 Dilution):** This is the dilution below which the result is considered negative.  Results above this dilution suggest potential exposure or infection.\n",
            "\n",
            "\n",
            "**2. Dengue Serology:** This test screens for dengue fever, a viral infection spread by mosquitoes.\n",
            "\n",
            "* **Dengue NS1 Antigen: Negative:**  The NS1 antigen is a protein produced by the dengue virus. A negative result means the antigen wasn't detected, suggesting no current dengue infection.\n",
            "* **Dengue IgG: Negative:**  IgG antibodies indicate a past infection with dengue virus.  A negative result suggests no prior dengue infection (or it's been too long for detectable IgG).\n",
            "* **Dengue IgM: Negative:** IgM antibodies are produced early in a dengue infection. A negative result suggests no current dengue infection.\n",
            "\n",
            "\n",
            "**3. Erythrocyte Sedimentation Rate (ESR):** This measures the rate at which red blood cells settle in a blood sample over time. An elevated ESR can indicate inflammation or infection.\n",
            "\n",
            "* **ESR 1st Hour: 26 mm/hr:**  Slightly elevated compared to the reference range (0-8 mm/hr).\n",
            "* **ESR 2nd Hour: 52 mm/hr:**  Significantly elevated. This warrants further investigation to determine the cause of the inflammation.\n",
            "\n",
            "\n",
            "**4. Rapid Malaria Test:** This test detects malaria parasites in the blood.\n",
            "\n",
            "* **Rapid Malaria Test P.V: Negative:** Negative for *Plasmodium vivax* (a type of malaria parasite).\n",
            "* **Rapid Malaria Test P.F: Negative:** Negative for *Plasmodium falciparum* (a type of malaria parasite).\n",
            "\n",
            "\n",
            "**5. Complete Blood Picture (CBC):** This provides information about various components of the blood.\n",
            "\n",
            "* **Hemoglobin (Hb): 13.6 gms%:** Within the normal reference range (13-17 gms%).\n",
            "* **Red Blood Cells (RBC): 4.3 mill/cumm:** Slightly below the lower limit of the reference range (4.5-5.5 mill/cumm).\n",
            "* **White Blood Cells (WBC): 7,200 cells/cumm:** Within the normal reference range (4000-10000 cells/cumm).\n",
            "* **Platelet Count: 2.0 lakhs/cumm:** Within the normal reference range (1.5-4.5 lakhs/cumm).\n",
            "* **Packed Cell Volume (PCV): 40.5%:** Within the normal reference range (40-50%).\n",
            "* **Differential Count:** Shows the percentages of different types of white blood cells, all within normal ranges.\n",
            "* **Peripheral Blood Smear:**  Microscopic examination of the blood smear reveals normal red blood cells, white blood cells within normal limits, and adequate platelets.\n",
            "\n",
            "\n",
            "**6. HbA1c:** This test measures the average blood glucose level over the past 2-3 months. It's used to monitor diabetes.\n",
            "\n",
            "* **HbA1c: 5.4%:** This falls within the normal range for non-diabetic individuals (4-6%), indicating good glucose control.\n",
            "\n",
            "\n",
            "**7. Serum Creatinine:** This measures the level of creatinine in the blood, an indicator of kidney function.\n",
            "\n",
            "* **Serum Creatinine: 0.8 mg/dl:** Within the normal reference range (0.6-1.25 mg/dl).\n",
            "\n",
            "\n",
            "**8. Random Blood Glucose:** This measures blood glucose at a random time.\n",
            "\n",
            "* **Random Blood Glucose: (Value Missing):**  The actual value is not present in the provided text. The reference range is 60-170 mg/dl.\n",
            "\n",
            "**9. Liver Function Test (LFT):** This assesses the function of the liver.  All values are within normal ranges.\n",
            "\n",
            "* **Total Bilirubin, Direct Bilirubin, Indirect Bilirubin, Alkaline Phosphatase, SGOT (AST), SGPT (ALT), Total Protein, Albumin, Globulin, A/G Ratio:** All within normal ranges.\n",
            "\n",
            "\n",
            "**10. Serum Electrolytes:** This measures the levels of electrolytes (sodium, potassium, chloride) in the blood.\n",
            "\n",
            "* **Serum Sodium, Serum Potassium, Serum Chloride:** Sodium is slightly low, while potassium and chloride are within normal ranges.\n",
            "\n",
            "**In Summary:**\n",
            "\n",
            "Mr. Kishan Goud's results show some minor abnormalities (slightly low RBC, slightly elevated ESR, slightly low sodium).  The slightly elevated ESR and Widal test results (especially the \"O\" antigen titer) suggest a possible past or present infection, potentially typhoid.  However, the negative dengue and malaria tests, and mostly normal other values, suggest that these are not the primary concerns.  A physician should interpret these results in the context of the patient's clinical presentation and order any necessary follow-up tests.  The slightly low sodium warrants attention, and needs further investigation to rule out any cause.\n",
            "\n"
          ]
        }
      ]
    },
    {
      "cell_type": "code",
      "source": [
        "def ask_gemini_about_report(text, question):\n",
        "\n",
        "    \"\"\"Allows users to ask questions about their health report.\"\"\"\n",
        "\n",
        "    model = genai.GenerativeModel(\"gemini-1.5-flash\")\n",
        "\n",
        "    prompt = f\"The following is a health report:\\n\\n{text}\\n\\nAnswer the following question based on the report:\\n{question}\"\n",
        "\n",
        "    response = model.generate_content(prompt)\n",
        "\n",
        "    return response.text\n",
        "\n",
        "question = \"What is the patient's diagnosis?\"\n",
        "\n",
        "answer = ask_gemini_about_report(extracted_text, question)\n",
        "\n",
        "print(\"Answer:\\n\", answer)\n",
        "\n",
        "\n",
        "\n",
        "\n"
      ],
      "metadata": {
        "id": "uE0wORkXJl-0",
        "outputId": "7290697d-a3df-4dea-8724-9de7ba718016",
        "colab": {
          "base_uri": "https://localhost:8080/",
          "height": 92
        }
      },
      "execution_count": 18,
      "outputs": [
        {
          "output_type": "stream",
          "name": "stdout",
          "text": [
            "Answer:\n",
            " The provided lab report does not offer a diagnosis.  It shows the results of various tests, some showing values outside the normal range (e.g., elevated ESR), but this information alone is insufficient to establish a diagnosis.  A physician needs to interpret these results in conjunction with the patient's symptoms, medical history, and physical examination to arrive at a diagnosis.\n",
            "\n"
          ]
        }
      ]
    },
    {
      "cell_type": "code",
      "source": [],
      "metadata": {
        "id": "MtfIJp7aJoz5"
      },
      "execution_count": null,
      "outputs": []
    }
  ]
}