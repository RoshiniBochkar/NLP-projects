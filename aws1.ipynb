{
  "nbformat": 4,
  "nbformat_minor": 0,
  "metadata": {
    "colab": {
      "provenance": [],
      "authorship_tag": "ABX9TyPMP3DXnrC0cKNf+GlQiAxs",
      "include_colab_link": true
    },
    "kernelspec": {
      "name": "python3",
      "display_name": "Python 3"
    },
    "language_info": {
      "name": "python"
    }
  },
  "cells": [
    {
      "cell_type": "markdown",
      "metadata": {
        "id": "view-in-github",
        "colab_type": "text"
      },
      "source": [
        "<a href=\"https://colab.research.google.com/github/RoshiniBochkar/NLP-projects/blob/main/aws1.ipynb\" target=\"_parent\"><img src=\"https://colab.research.google.com/assets/colab-badge.svg\" alt=\"Open In Colab\"/></a>"
      ]
    },
    {
      "cell_type": "code",
      "execution_count": 1,
      "metadata": {
        "colab": {
          "base_uri": "https://localhost:8080/"
        },
        "id": "CkULEmayGOa7",
        "outputId": "77e92d5e-18c0-4dfc-f702-f2bd6f3ba578"
      },
      "outputs": [
        {
          "output_type": "stream",
          "name": "stdout",
          "text": [
            "Collecting boto3\n",
            "  Downloading boto3-1.37.17-py3-none-any.whl.metadata (6.7 kB)\n",
            "Collecting botocore<1.38.0,>=1.37.17 (from boto3)\n",
            "  Downloading botocore-1.37.17-py3-none-any.whl.metadata (5.7 kB)\n",
            "Collecting jmespath<2.0.0,>=0.7.1 (from boto3)\n",
            "  Downloading jmespath-1.0.1-py3-none-any.whl.metadata (7.6 kB)\n",
            "Collecting s3transfer<0.12.0,>=0.11.0 (from boto3)\n",
            "  Downloading s3transfer-0.11.4-py3-none-any.whl.metadata (1.7 kB)\n",
            "Requirement already satisfied: python-dateutil<3.0.0,>=2.1 in /usr/local/lib/python3.11/dist-packages (from botocore<1.38.0,>=1.37.17->boto3) (2.8.2)\n",
            "Requirement already satisfied: urllib3!=2.2.0,<3,>=1.25.4 in /usr/local/lib/python3.11/dist-packages (from botocore<1.38.0,>=1.37.17->boto3) (2.3.0)\n",
            "Requirement already satisfied: six>=1.5 in /usr/local/lib/python3.11/dist-packages (from python-dateutil<3.0.0,>=2.1->botocore<1.38.0,>=1.37.17->boto3) (1.17.0)\n",
            "Downloading boto3-1.37.17-py3-none-any.whl (139 kB)\n",
            "\u001b[2K   \u001b[90m━━━━━━━━━━━━━━━━━━━━━━━━━━━━━━━━━━━━━━━━\u001b[0m \u001b[32m139.6/139.6 kB\u001b[0m \u001b[31m7.0 MB/s\u001b[0m eta \u001b[36m0:00:00\u001b[0m\n",
            "\u001b[?25hDownloading botocore-1.37.17-py3-none-any.whl (13.4 MB)\n",
            "\u001b[2K   \u001b[90m━━━━━━━━━━━━━━━━━━━━━━━━━━━━━━━━━━━━━━━━\u001b[0m \u001b[32m13.4/13.4 MB\u001b[0m \u001b[31m47.5 MB/s\u001b[0m eta \u001b[36m0:00:00\u001b[0m\n",
            "\u001b[?25hDownloading jmespath-1.0.1-py3-none-any.whl (20 kB)\n",
            "Downloading s3transfer-0.11.4-py3-none-any.whl (84 kB)\n",
            "\u001b[2K   \u001b[90m━━━━━━━━━━━━━━━━━━━━━━━━━━━━━━━━━━━━━━━━\u001b[0m \u001b[32m84.4/84.4 kB\u001b[0m \u001b[31m6.6 MB/s\u001b[0m eta \u001b[36m0:00:00\u001b[0m\n",
            "\u001b[?25hInstalling collected packages: jmespath, botocore, s3transfer, boto3\n",
            "Successfully installed boto3-1.37.17 botocore-1.37.17 jmespath-1.0.1 s3transfer-0.11.4\n"
          ]
        }
      ],
      "source": [
        "!pip install boto3"
      ]
    },
    {
      "cell_type": "code",
      "source": [
        "!pip install awscli"
      ],
      "metadata": {
        "colab": {
          "base_uri": "https://localhost:8080/"
        },
        "id": "2ANAbZOBGqSG",
        "outputId": "9b4ed452-8cba-4a6d-ff0a-3345e79c44cc"
      },
      "execution_count": 2,
      "outputs": [
        {
          "output_type": "stream",
          "name": "stdout",
          "text": [
            "Collecting awscli\n",
            "  Downloading awscli-1.38.17-py3-none-any.whl.metadata (11 kB)\n",
            "Requirement already satisfied: botocore==1.37.17 in /usr/local/lib/python3.11/dist-packages (from awscli) (1.37.17)\n",
            "Collecting docutils<0.17,>=0.10 (from awscli)\n",
            "  Downloading docutils-0.16-py2.py3-none-any.whl.metadata (2.7 kB)\n",
            "Requirement already satisfied: s3transfer<0.12.0,>=0.11.0 in /usr/local/lib/python3.11/dist-packages (from awscli) (0.11.4)\n",
            "Requirement already satisfied: PyYAML<6.1,>=3.10 in /usr/local/lib/python3.11/dist-packages (from awscli) (6.0.2)\n",
            "Collecting colorama<0.4.7,>=0.2.5 (from awscli)\n",
            "  Downloading colorama-0.4.6-py2.py3-none-any.whl.metadata (17 kB)\n",
            "Collecting rsa<4.8,>=3.1.2 (from awscli)\n",
            "  Downloading rsa-4.7.2-py3-none-any.whl.metadata (3.6 kB)\n",
            "Requirement already satisfied: jmespath<2.0.0,>=0.7.1 in /usr/local/lib/python3.11/dist-packages (from botocore==1.37.17->awscli) (1.0.1)\n",
            "Requirement already satisfied: python-dateutil<3.0.0,>=2.1 in /usr/local/lib/python3.11/dist-packages (from botocore==1.37.17->awscli) (2.8.2)\n",
            "Requirement already satisfied: urllib3!=2.2.0,<3,>=1.25.4 in /usr/local/lib/python3.11/dist-packages (from botocore==1.37.17->awscli) (2.3.0)\n",
            "Requirement already satisfied: pyasn1>=0.1.3 in /usr/local/lib/python3.11/dist-packages (from rsa<4.8,>=3.1.2->awscli) (0.6.1)\n",
            "Requirement already satisfied: six>=1.5 in /usr/local/lib/python3.11/dist-packages (from python-dateutil<3.0.0,>=2.1->botocore==1.37.17->awscli) (1.17.0)\n",
            "Downloading awscli-1.38.17-py3-none-any.whl (4.7 MB)\n",
            "\u001b[2K   \u001b[90m━━━━━━━━━━━━━━━━━━━━━━━━━━━━━━━━━━━━━━━━\u001b[0m \u001b[32m4.7/4.7 MB\u001b[0m \u001b[31m36.6 MB/s\u001b[0m eta \u001b[36m0:00:00\u001b[0m\n",
            "\u001b[?25hDownloading colorama-0.4.6-py2.py3-none-any.whl (25 kB)\n",
            "Downloading docutils-0.16-py2.py3-none-any.whl (548 kB)\n",
            "\u001b[2K   \u001b[90m━━━━━━━━━━━━━━━━━━━━━━━━━━━━━━━━━━━━━━━━\u001b[0m \u001b[32m548.2/548.2 kB\u001b[0m \u001b[31m23.2 MB/s\u001b[0m eta \u001b[36m0:00:00\u001b[0m\n",
            "\u001b[?25hDownloading rsa-4.7.2-py3-none-any.whl (34 kB)\n",
            "Installing collected packages: rsa, docutils, colorama, awscli\n",
            "  Attempting uninstall: rsa\n",
            "    Found existing installation: rsa 4.9\n",
            "    Uninstalling rsa-4.9:\n",
            "      Successfully uninstalled rsa-4.9\n",
            "  Attempting uninstall: docutils\n",
            "    Found existing installation: docutils 0.21.2\n",
            "    Uninstalling docutils-0.21.2:\n",
            "      Successfully uninstalled docutils-0.21.2\n",
            "\u001b[31mERROR: pip's dependency resolver does not currently take into account all the packages that are installed. This behaviour is the source of the following dependency conflicts.\n",
            "sphinx 8.2.3 requires docutils<0.22,>=0.20, but you have docutils 0.16 which is incompatible.\u001b[0m\u001b[31m\n",
            "\u001b[0mSuccessfully installed awscli-1.38.17 colorama-0.4.6 docutils-0.16 rsa-4.7.2\n"
          ]
        }
      ]
    },
    {
      "cell_type": "code",
      "source": [
        "!aws configure"
      ],
      "metadata": {
        "colab": {
          "base_uri": "https://localhost:8080/"
        },
        "id": "1DPk-A6LGyh9",
        "outputId": "597b0e66-d65e-43ef-901a-b5de545c3412"
      },
      "execution_count": 3,
      "outputs": [
        {
          "output_type": "stream",
          "name": "stdout",
          "text": [
            "AWS Access Key ID [None]: \n",
            "AWS Secret Access Key [None]: \n",
            "Default region name [None]: \n",
            "Default output format [None]: \n"
          ]
        }
      ]
    },
    {
      "cell_type": "code",
      "source": [
        "!aws s3 ls"
      ],
      "metadata": {
        "id": "QRLBmVD_InWJ",
        "colab": {
          "base_uri": "https://localhost:8080/"
        },
        "outputId": "f475ec43-5ec7-4093-febe-92e7e58ba996"
      },
      "execution_count": 4,
      "outputs": [
        {
          "output_type": "stream",
          "name": "stdout",
          "text": [
            "Unable to locate credentials. You can configure credentials by running \"aws configure\".\n"
          ]
        }
      ]
    },
    {
      "cell_type": "code",
      "source": [
        "import boto3\n",
        "# Create an S3 client\n",
        "s3 = boto3.client(\"s3\")"
      ],
      "metadata": {
        "id": "csWc_veB3XJZ"
      },
      "execution_count": 5,
      "outputs": []
    },
    {
      "cell_type": "markdown",
      "source": [
        "**Create an S3 Bucket**"
      ],
      "metadata": {
        "id": "D9o9ZnxF3sI4"
      }
    },
    {
      "cell_type": "code",
      "source": [
        "bucket_name = \"mylpmru2\"\n",
        "s3.create_bucket(\n",
        "    Bucket = bucket_name,\n",
        "    CreateBucketConfiguration = {\"LocationConstraint\": \"eu-north-1\"}\n",
        ")\n",
        "print (f\"Bucket '{bucket_name}' created successfully!\")"
      ],
      "metadata": {
        "id": "u0Br53Mw-b9U"
      },
      "execution_count": null,
      "outputs": []
    },
    {
      "cell_type": "markdown",
      "source": [],
      "metadata": {
        "id": "5gUgBS_I-jZi"
      }
    },
    {
      "cell_type": "markdown",
      "source": [
        "**List Buckets**"
      ],
      "metadata": {
        "id": "9OlafL1o-lhX"
      }
    },
    {
      "cell_type": "code",
      "source": [
        "response = s3.list_buckets()\n",
        "print(\"Existing Buckets:\")\n",
        "for bucket in response[\"Buckets\"]:\n",
        "  print(f\" - {bucket['Name']}\")"
      ],
      "metadata": {
        "id": "szzh0D02-dta"
      },
      "execution_count": null,
      "outputs": []
    },
    {
      "cell_type": "markdown",
      "source": [
        "**Upload a File to S3**"
      ],
      "metadata": {
        "id": "wzpi9EdC--9M"
      }
    },
    {
      "cell_type": "code",
      "source": [
        "import boto3\n",
        "\n",
        "# Initialize the S3 client\n",
        "s3_client = boto3.client(\"s3\")\n",
        "\n",
        "# Upload a file\n",
        "s3_client.upload_file(\"test.txt\", \"mynlpmru\", \"data/testfile.thit\")\n",
        "\n",
        "print (\"Upload complete!\")"
      ],
      "metadata": {
        "id": "yqDrNx_3-WFx"
      },
      "execution_count": null,
      "outputs": []
    },
    {
      "cell_type": "markdown",
      "source": [
        "**Download a File from S3**"
      ],
      "metadata": {
        "id": "r16xH-r5_N4M"
      }
    },
    {
      "cell_type": "code",
      "source": [
        "s3_client.download_file(\"mynIpmru\", \"data/testfile1.txt\", \"downloaded_test1.txt\")\n",
        "print (\"Download successful!\")"
      ],
      "metadata": {
        "id": "TKqyjoyh_IBW"
      },
      "execution_count": null,
      "outputs": []
    },
    {
      "cell_type": "markdown",
      "source": [
        "**List Files in a Bucket**"
      ],
      "metadata": {
        "id": "eXV-7VW__Xa1"
      }
    },
    {
      "cell_type": "code",
      "source": [
        "response = s3.list_objects_v2(Bucket=\"myn1pmru\")\n",
        "\n",
        "print(\"Files in bucket:\")\n",
        "if \"Contents\" in response:\n",
        "  for obj in response[\"Contents\"]:\n",
        "    print(f\"- {obj[ 'Key']} (Size:{obj['Size']} bytes)\")\n",
        "else:\n",
        "  print(\"Bucket is empty.\")"
      ],
      "metadata": {
        "id": "Jju8H_RB_H_L"
      },
      "execution_count": null,
      "outputs": []
    },
    {
      "cell_type": "markdown",
      "source": [
        "**Delete a File from S3**"
      ],
      "metadata": {
        "id": "t4PwsJEk_o-s"
      }
    },
    {
      "cell_type": "code",
      "source": [
        "s3.delete_object(Bucket=\"myn1pmru\", Key=\"data/testfile.txt\")\n",
        "print(\"File deleted successfully!\")"
      ],
      "metadata": {
        "id": "43MT2G6d_H80"
      },
      "execution_count": null,
      "outputs": []
    },
    {
      "cell_type": "markdown",
      "source": [
        "**Enable Versioning on an S3 Bucket**"
      ],
      "metadata": {
        "id": "GWoTWFZQ_0jW"
      }
    },
    {
      "cell_type": "code",
      "source": [
        "s3.put_bucket_versioning(\n",
        "    Bucket=\"myn]pmru\",\n",
        "    VersioningConfiguration={\"Status\": \"Enabled\"}\n",
        ")\n",
        "print(\"Bucket versioning enabled.\")"
      ],
      "metadata": {
        "id": "_RG_GrXE_H6q"
      },
      "execution_count": null,
      "outputs": []
    },
    {
      "cell_type": "markdown",
      "source": [
        "**Copy an Object Within S3**"
      ],
      "metadata": {
        "id": "lIoG39aAADVf"
      }
    },
    {
      "cell_type": "code",
      "source": [
        "copy_source = {\"Bucket\": \"mynipmru\", \"Key\": \"data/testfile.txt\"}\n",
        "s3.Copy_object(CopySource=copy_source, Bucket=\"mynIpmru\", Key=\"data/copied_testfile.txt\")\n",
        "print(\"File copied successfully.\")"
      ],
      "metadata": {
        "id": "ciSCvYklADuO"
      },
      "execution_count": null,
      "outputs": []
    }
  ]
}