{
  "nbformat": 4,
  "nbformat_minor": 0,
  "metadata": {
    "colab": {
      "provenance": [],
      "authorship_tag": "ABX9TyNGyv5nZFFbgb6aRcr1JoPb",
      "include_colab_link": true
    },
    "kernelspec": {
      "name": "python3",
      "display_name": "Python 3"
    },
    "language_info": {
      "name": "python"
    }
  },
  "cells": [
    {
      "cell_type": "markdown",
      "metadata": {
        "id": "view-in-github",
        "colab_type": "text"
      },
      "source": [
        "<a href=\"https://colab.research.google.com/github/RoshiniBochkar/NLP-projects/blob/main/gemini_pypdf.ipynb\" target=\"_parent\"><img src=\"https://colab.research.google.com/assets/colab-badge.svg\" alt=\"Open In Colab\"/></a>"
      ]
    },
    {
      "cell_type": "code",
      "execution_count": 1,
      "metadata": {
        "id": "x2eqsaVS_aUQ"
      },
      "outputs": [],
      "source": [
        "# Configure Gemini API\n",
        "import google.generativeai as genai\n",
        "from google.colab import userdata\n",
        "GOOGLE_API_KEY=userdata.get ('GOOGLE_API_KEY')\n",
        "genai.configure(api_key=GOOGLE_API_KEY)"
      ]
    },
    {
      "cell_type": "code",
      "source": [
        "pip install PyPDF2"
      ],
      "metadata": {
        "colab": {
          "base_uri": "https://localhost:8080/"
        },
        "id": "HN3kurFt_yxg",
        "outputId": "d8c47bbc-94b7-4634-e586-b1d280cd9eb0"
      },
      "execution_count": 2,
      "outputs": [
        {
          "output_type": "stream",
          "name": "stdout",
          "text": [
            "Collecting PyPDF2\n",
            "  Downloading pypdf2-3.0.1-py3-none-any.whl.metadata (6.8 kB)\n",
            "Downloading pypdf2-3.0.1-py3-none-any.whl (232 kB)\n",
            "\u001b[?25l   \u001b[90m━━━━━━━━━━━━━━━━━━━━━━━━━━━━━━━━━━━━━━━━\u001b[0m \u001b[32m0.0/232.6 kB\u001b[0m \u001b[31m?\u001b[0m eta \u001b[36m-:--:--\u001b[0m\r\u001b[2K   \u001b[91m━━━━━━━━━━━━━━━━━━━━━━━━━━━━━━━━━━━━━━\u001b[0m\u001b[91m╸\u001b[0m\u001b[90m━\u001b[0m \u001b[32m225.3/232.6 kB\u001b[0m \u001b[31m6.8 MB/s\u001b[0m eta \u001b[36m0:00:01\u001b[0m\r\u001b[2K   \u001b[90m━━━━━━━━━━━━━━━━━━━━━━━━━━━━━━━━━━━━━━━━\u001b[0m \u001b[32m232.6/232.6 kB\u001b[0m \u001b[31m5.1 MB/s\u001b[0m eta \u001b[36m0:00:00\u001b[0m\n",
            "\u001b[?25hInstalling collected packages: PyPDF2\n",
            "Successfully installed PyPDF2-3.0.1\n"
          ]
        }
      ]
    },
    {
      "cell_type": "code",
      "source": [
        "import PyPDF2\n",
        "def extract_text_from_pdf(pdf_path):\n",
        "  \"\"\"Extracts text from a given health report PDF using PyPDF2.\"\"\"\n",
        "  text = \"\"\n",
        "  with open(pdf_path, \"rb\") as file:\n",
        "    reader = PyPDF2.PdfReader(file)\n",
        "    for page in reader.pages:\n",
        "      text += page.extract_text() + \"\\n\"\n",
        "  return text"
      ],
      "metadata": {
        "id": "yodqC8GP_41_"
      },
      "execution_count": 3,
      "outputs": []
    },
    {
      "cell_type": "code",
      "source": [
        "def extract_health_insights(text):\n",
        "  \"\"\"Extracts text from a given health report PDF using PyPDF2.\"\"\"\n",
        "  text = \"\"\n",
        "  with open(pdf_path, \"rb\") as file:\n",
        "    reader = PyPDF2.PdfReader (file)\n",
        "    for page in reader.pages:\n",
        "      text += page.extract_text() + \"\\n\"\n",
        "  return text"
      ],
      "metadata": {
        "id": "fzoiolWZBP5_"
      },
      "execution_count": 4,
      "outputs": []
    },
    {
      "cell_type": "code",
      "source": [
        "def extract_health_insights(text):\n",
        "  \"\"\"Asks Gemini AI to extract key medical insights from the report.\"\"\"\n",
        "  model =genai.GenerativeModel(\"gemini-1.5-flash\")\n",
        "  prompt = f\"Extract key insights from the following health report:\\n\\n{text}\"\n",
        "  response = model.generate_content(prompt)\n",
        "  return response.text"
      ],
      "metadata": {
        "id": "n1kH7qj2BU-3"
      },
      "execution_count": 5,
      "outputs": []
    },
    {
      "cell_type": "code",
      "source": [
        "# Example Usage\n",
        "pdf_file = \"health_report.pdf\"\n",
        "extracted_text = extract_text_from_pdf(pdf_file)\n",
        "insights = extract_health_insights(extracted_text)\n",
        "print(\"Key Insights:\\n\", insights)"
      ],
      "metadata": {
        "colab": {
          "base_uri": "https://localhost:8080/",
          "height": 488
        },
        "id": "OSaBECtFB7qj",
        "outputId": "d9921d33-2ba1-4e0d-8b2e-1a7c97a218db"
      },
      "execution_count": 6,
      "outputs": [
        {
          "output_type": "stream",
          "name": "stdout",
          "text": [
            "Key Insights:\n",
            " Mr. Kishan Goud's (MR2100003157) health report from 01/02/2021 reveals the following key insights:\n",
            "\n",
            "**Infectious Disease Screen:**\n",
            "\n",
            "* **Widal Test:** Elevated titers for *Salmonella Typhi* \"O\" (1:160) and \"H\" (1:80) suggest a possible past or present typhoid fever infection.  Further investigation may be needed as the reference range is 1:20.  *Salmonella Paratyphi* \"A\" and \"B\" titers are within the normal range.\n",
            "* **Dengue Serology:** Negative for Dengue NS1 antigen, IgG, and IgM antibodies, ruling out recent or past dengue infection.\n",
            "* **Malaria:** Negative for both *Plasmodium falciparum* and *Plasmodium vivax*, excluding malaria.\n",
            "\n",
            "**Hematology:**\n",
            "\n",
            "* **Complete Blood Picture (CBC):**  Hemoglobin, RBC, WBC, and Platelet counts are within normal ranges.  Differential count shows normal ranges for neutrophils, lymphocytes, eosinophils, monocytes, and basophils.  The peripheral blood smear shows normal morphology.\n",
            "* **Erythrocyte Sedimentation Rate (ESR):** Elevated (26 mm/hr in the first hour, 52 mm/hr in the second), suggesting possible inflammation or infection.  This is consistent with the elevated Widal titers.\n",
            "\n",
            "**Biochemistry:**\n",
            "\n",
            "* **Liver Function Test (LFT):**  All liver enzymes (serum bilirubin – total, direct, indirect; alkaline phosphatase; SGOT; SGPT) are within normal ranges, indicating normal liver function. Total protein and albumin levels are also normal.\n",
            "* **Serum Electrolytes:** Serum sodium is slightly low (122 mmol/l; reference range 135-146 mmol/l), while potassium and chloride are within the normal range.  The low sodium warrants further investigation.\n",
            "* **Renal Function:** Creatinine level is within the normal range (0.8 mg/dl), suggesting normal kidney function.\n",
            "* **Blood Glucose:** Random blood glucose is not provided in the results.\n",
            "* **HbA1c:**  Indicates good glycemic control (5.4%, within the normal non-diabetic range of 4-6%).\n",
            "\n",
            "**Overall:**\n",
            "\n",
            "The report shows evidence of possible past or present typhoid infection (based on Widal test), and an elevated ESR indicating inflammation.  The slightly low sodium level requires further evaluation.  All other tests, including those for dengue, malaria, and liver function are within normal limits.  The patient's age (56) and clinical presentation should be considered alongside these laboratory results to reach a diagnosis and appropriate management plan.  The doctor should follow up on the slightly low sodium and potentially investigate further the possible typhoid infection.\n",
            "\n"
          ]
        }
      ]
    },
    {
      "cell_type": "code",
      "source": [
        "def summarize_health_report(text):\n",
        "  \"\"\"Summarizes the health report using Gemini AI.\"\"\"\n",
        "  model = genai. GenerativeModel (\"gemini-1.5-flash\")\n",
        "  prompt = f\"Summarize the following health report in a concise manner: \\n\\n{text}\"\n",
        "  response = model.generate_content(prompt)\n",
        "  return response.text\n",
        "summary = summarize_health_report(extracted_text)\n",
        "print(\"Summary: \\n\", summary)"
      ],
      "metadata": {
        "colab": {
          "base_uri": "https://localhost:8080/",
          "height": 332
        },
        "id": "RijfXcp1B-WF",
        "outputId": "13187ae5-ee08-4f06-d198-3f01b4cf2445"
      },
      "execution_count": 7,
      "outputs": [
        {
          "output_type": "stream",
          "name": "stdout",
          "text": [
            "Summary: \n",
            " Mr. Kishan Goud's (MR2100003157) blood tests on 01/02/2021 showed:\n",
            "\n",
            "* **Widal Test:** Elevated titers for *Salmonella Typhi* \"O\" (1:160) and \"H\" (1:80), suggesting possible typhoid fever.  *Salmonella Paratyphi* \"AH\" and \"BH\" were within normal range.\n",
            "* **Dengue Serology:** Negative for NS1 antigen, IgG, and IgM antibodies.\n",
            "* **ESR:** Elevated (26 mm/hr, 52 mm/hr), indicating inflammation.\n",
            "* **Malaria:** Negative.\n",
            "* **Complete Blood Picture:**  All values within normal limits except slightly low platelets (2.0 lakhs/cumm).\n",
            "* **HbA1c:** 5.4%, within the normal non-diabetic range.\n",
            "* **Serum Creatinine:** 0.8 mg/dl, within normal range.\n",
            "* **Random Blood Glucose:**  Not provided in the text.\n",
            "* **Liver Function Tests:** All values within normal ranges.\n",
            "* **Serum Electrolytes:** Sodium (122 mmol/l) slightly low, potassium and chloride within normal ranges.\n",
            "\n",
            "\n",
            "**Note:**  The interpretation of these results requires clinical correlation by a physician.  The slightly low sodium and elevated ESR warrant further investigation.  The Widal test results are suggestive but not definitive for typhoid.\n",
            "\n"
          ]
        }
      ]
    },
    {
      "cell_type": "code",
      "source": [
        "def detect_abnormalities(text):\n",
        "  \"\"\"Analyzes lab test results and flags abnormal values.\"\"\"\n",
        "  model = genai. GenerativeModel (\"gemini-1.5-flash\")\n",
        "  prompt = f\"Analyze the lab test results in the following health report and highlight any abnormal values: \\n\\n{text}\"\n",
        "  response = model.generate_content(prompt)\n",
        "  return response.text\n",
        "abnormalities = detect_abnormalities(extracted_text)\n",
        "print(\"Potential Abnormalities:\\n\", abnormalities)"
      ],
      "metadata": {
        "colab": {
          "base_uri": "https://localhost:8080/",
          "height": 280
        },
        "id": "hRDFWnc4E7cE",
        "outputId": "b5c95d98-fb6a-48e9-a27d-6ed5360e6551"
      },
      "execution_count": 8,
      "outputs": [
        {
          "output_type": "stream",
          "name": "stdout",
          "text": [
            "Potential Abnormalities:\n",
            " The following values are outside the biological reference ranges provided in Mr. Kishan Goud's lab report:\n",
            "\n",
            "* **Widal Test:**  S. Typhi \"O\" (1:160) and S. Typhi \"H\" (1:80) are significantly higher than the reference range of 1:20.  This suggests a possible past or present infection with *Salmonella Typhi*, which causes typhoid fever.  Further investigation is warranted.\n",
            "\n",
            "* **Erythrocyte Sedimentation Rate (ESR):**  Both the 1st hour (26 mm/hr) and 2nd hour (52 mm/hr) ESR values are elevated above the normal range (0-8 mm/hr for the first hour). Elevated ESR indicates inflammation in the body.  The cause needs to be determined through further investigation.\n",
            "\n",
            "* **Serum Sodium:** The serum sodium level of 122 mmol/l is below the reference range of 135-146 mmol/l.  Hyponatremia (low sodium) can have various causes and requires further evaluation.\n",
            "\n",
            "* **Serum Chloride:** The serum chloride level of 97 mmol/l is slightly below the reference range of 98-107 mmol/l. While only slightly low, it warrants consideration in conjunction with the hyponatremia.\n",
            "\n",
            "\n",
            "**Important Note:**  I am an AI and cannot give medical advice.  This analysis only highlights abnormalities in the provided lab results.  Mr. Kishan Goud should consult his physician Dr. Krishna Prasad for proper interpretation of these results in the context of his symptoms and medical history to determine the appropriate diagnosis and treatment plan.  The elevated Widal test and ESR are particularly significant and require further investigation to rule out serious infections.  The low sodium and chloride necessitate checking for dehydration or other underlying conditions.\n",
            "\n"
          ]
        }
      ]
    },
    {
      "cell_type": "code",
      "source": [
        "def explain_medical_terms(text):\n",
        "  \"\"\"Asks Gemini AI to simplify medical terms for patient understanding.\"\"\"\n",
        "  model = genai.GenerativeModel(\"gemini-1.5-flash\")\n",
        "  prompt = f\"Explain the medical terms in the following health report in simple language: \\n\\n{text}\"\n",
        "  response = model.generate_content (prompt)\n",
        "  return response.text\n",
        "explanation = explain_medical_terms(extracted_text)\n",
        "print(\"Simplified Explanation:\\n\", explanation)"
      ],
      "metadata": {
        "colab": {
          "base_uri": "https://localhost:8080/",
          "height": 1000
        },
        "id": "_YIlHHZKGvEk",
        "outputId": "7271250b-4d43-4682-a60f-473d360c0daf"
      },
      "execution_count": 9,
      "outputs": [
        {
          "output_type": "stream",
          "name": "stdout",
          "text": [
            "Simplified Explanation:\n",
            " This report shows the results of several blood tests performed on Mr. Kishan Goud. Let's break down the medical terms:\n",
            "\n",
            "**Section 1: Widal Test (Infectious Diseases)**\n",
            "\n",
            "This test checks for antibodies against *Salmonella* bacteria, which cause typhoid fever and paratyphoid fever.  The numbers (e.g., 1:160) represent the dilution of the sample at which antibodies are still detected.  A higher number indicates a stronger immune response, suggesting a possible past or current infection.\n",
            "\n",
            "* **S. Typhi \"O\" 1:160:**  Antibody response to the \"O\" antigen of *Salmonella Typhi* (typhoid).  1:160 suggests a possible past or present typhoid infection; the reference range is 1:20.\n",
            "* **S. Typhi \"H\" 1:80:** Antibody response to the \"H\" antigen of *Salmonella Typhi*. 1:80 also suggests a possible past or present infection.\n",
            "* **S. Paratyphi \"AH\" 1:20:** Antibody response to the \"AH\" antigen of *Salmonella Paratyphi* (paratyphoid).  1:20 is within the normal range.\n",
            "* **S. Paratyphi \"BH\" 1:20:** Antibody response to the \"BH\" antigen of *Salmonella Paratyphi*. 1:20 is within the normal range.\n",
            "\n",
            "**Section 2: Dengue Serology (Infectious Diseases)**\n",
            "\n",
            "This tests for dengue fever, a viral infection spread by mosquitoes.\n",
            "\n",
            "* **Dengue NS1 Antigen:** Negative. This means the test didn't detect the NS1 protein, which is present in the early stages of dengue infection.\n",
            "* **Dengue IgG:** Negative.  This checks for IgG antibodies, indicating a past dengue infection.  A negative result means no past infection is detected.\n",
            "* **Dengue IgM:** Negative. This checks for IgM antibodies, indicating a recent or current dengue infection. A negative result means no recent or current infection is detected.\n",
            "\n",
            "**Section 3: Erythrocyte Sedimentation Rate (ESR) (Blood Test)**\n",
            "\n",
            "This test measures how quickly red blood cells settle at the bottom of a test tube. A faster rate (increased ESR) can indicate inflammation or infection in the body.\n",
            "\n",
            "* **ESR 1st Hour 26 mm/hr:**  Elevated (normal is 0-8 mm/hr).\n",
            "* **ESR 2nd Hour 52 mm/hr:** Further elevated.\n",
            "\n",
            "**Section 4: Rapid Malaria Test (Infectious Diseases)**\n",
            "\n",
            "This is a quick test to detect malaria parasites in the blood.\n",
            "\n",
            "* **Rapid Malaria Test P.V Negative:** Negative for *Plasmodium vivax* malaria.\n",
            "* **Rapid Malaria Test P.F Negative:** Negative for *Plasmodium falciparum* malaria.  (These are two common types of malaria.)\n",
            "\n",
            "**Section 5: Complete Blood Picture (CBC) (Blood Test)**\n",
            "\n",
            "This provides a comprehensive overview of various components of the blood.\n",
            "\n",
            "* **Hemoglobin (Hb):** 13.6 gms% (normal).  This is a protein in red blood cells that carries oxygen.\n",
            "* **Red Blood Cells (RBCs):** 4.3 mill/cumm (slightly low, but within the acceptable range for some). These cells carry oxygen.\n",
            "* **White Blood Cells (WBCs):** 7,200 cells/cumm (normal). These cells fight infection.\n",
            "* **Platelet Count:** 2.0 lakhs/cumm (normal). These cells help with blood clotting.\n",
            "* **Packed Cell Volume (PCV):** 40.5% (normal). This is the percentage of red blood cells in the blood.\n",
            "* **Differential Count:** This shows the percentages of different types of white blood cells.  All are within normal ranges.\n",
            "* **Peripheral Blood Smear:** Description of the appearance of blood cells under a microscope – all normal.\n",
            "\n",
            "**Section 6: HbA1c (Blood Test)**\n",
            "\n",
            "This test measures average blood sugar levels over the past 2-3 months. It's used to monitor diabetes.\n",
            "\n",
            "* **HbA1c 5.4%:** Normal, indicating good blood sugar control.\n",
            "\n",
            "**Section 7: Serum Creatinine (Blood Test)**\n",
            "\n",
            "This test measures creatinine, a waste product from muscle metabolism.  It's a marker of kidney function.\n",
            "\n",
            "* **Serum Creatinine 0.8 mg/dl:** Normal (within the reference range).\n",
            "\n",
            "**Section 8: Random Blood Glucose (Blood Test)**\n",
            "\n",
            "This measures blood sugar level at a random time.\n",
            "\n",
            "* **Random Blood Glucose:**  (The value is missing from the provided text).\n",
            "\n",
            "**Section 9: Liver Function Test (LFT) (Blood Test)**\n",
            "\n",
            "These tests assess the health of the liver.\n",
            "\n",
            "* **Serum Bilirubin (Total, Direct, Indirect):** All within the normal range. Bilirubin is a yellowish pigment.\n",
            "* **Serum Alkaline Phosphatase:** Within the normal range.  This enzyme is found in the liver and bones.\n",
            "* **SGOT (AST) and SGPT (ALT):**  Both within normal ranges. These are liver enzymes.  Elevated levels usually suggest liver damage.\n",
            "* **Total Protein and Albumin:** Both within normal ranges.  These are proteins in the blood.\n",
            "* **Globulin:** This protein is also in normal range.\n",
            "* **A/G Ratio:**  This is the ratio of albumin to globulin; its value within normal range.\n",
            "\n",
            "**Section 10: Serum Electrolytes (Blood Test)**\n",
            "\n",
            "These tests measure the levels of minerals in the blood.\n",
            "\n",
            "* **Serum Sodium:** Slightly low (122 mmol/l; normal is 135-146 mmol/l).\n",
            "* **Serum Potassium:** Normal (3.5 mmol/l).\n",
            "* **Serum Chloride:** Slightly low (97 mmol/l; normal is 98-107 mmol/l).\n",
            "\n",
            "\n",
            "**In Summary:**  The majority of Mr. Kishan Goud's test results are within normal ranges.  However, the elevated ESR and slightly low serum sodium and chloride levels, along with the Widal test results, warrant further investigation by his doctor, Dr. Krishna Prasad.  The doctor will consider all the results together to determine the appropriate diagnosis and treatment.  This explanation is for informational purposes only and does not constitute medical advice.  Mr. Goud should discuss these results with his physician.\n",
            "\n"
          ]
        }
      ]
    },
    {
      "cell_type": "code",
      "source": [
        "def ask_gemini_about_report(text, question):\n",
        "  \"\"\"Allows users to ask questions about their health report.\"\"\"\n",
        "  model = genai.GenerativeModel(\"gemini-1.5-flash\")\n",
        "  prompt = f\"The following is a health report:\\n\\n{text}\\n\\nAnswer the following question based on the report: In{question}\"\n",
        "  response = model.generate_content(prompt)\n",
        "  return response.text\n",
        "question = \"What is the patient's diagnosis?\"\n",
        "answer = ask_gemini_about_report(extracted_text, question)\n",
        "print(\"Answer: \\n\", answer)"
      ],
      "metadata": {
        "colab": {
          "base_uri": "https://localhost:8080/",
          "height": 89
        },
        "id": "zoyPQiIYINBC",
        "outputId": "ebba5453-62c4-4dbb-b125-106e13b55731"
      },
      "execution_count": 10,
      "outputs": [
        {
          "output_type": "stream",
          "name": "stdout",
          "text": [
            "Answer: \n",
            " The provided lab report does not offer a diagnosis.  It presents the results of various tests, some showing values outside the normal range (e.g., elevated ESR), but it does *not* provide an interpretation or a conclusion regarding the patient's condition.  A doctor would need to review these results in the context of the patient's symptoms and medical history to make a diagnosis.\n",
            "\n"
          ]
        }
      ]
    },
    {
      "cell_type": "code",
      "source": [],
      "metadata": {
        "id": "yGkViKkXJvw1"
      },
      "execution_count": 10,
      "outputs": []
    }
  ]
}