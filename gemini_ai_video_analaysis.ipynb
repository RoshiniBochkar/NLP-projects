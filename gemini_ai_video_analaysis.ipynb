{
  "nbformat": 4,
  "nbformat_minor": 0,
  "metadata": {
    "colab": {
      "provenance": [],
      "authorship_tag": "ABX9TyMDdBemSgC558txA06zvF93",
      "include_colab_link": true
    },
    "kernelspec": {
      "name": "python3",
      "display_name": "Python 3"
    },
    "language_info": {
      "name": "python"
    }
  },
  "cells": [
    {
      "cell_type": "markdown",
      "metadata": {
        "id": "view-in-github",
        "colab_type": "text"
      },
      "source": [
        "<a href=\"https://colab.research.google.com/github/Bayapu-Reddy/Nlp/blob/main/gemini_ai_video_analaysis.ipynb\" target=\"_parent\"><img src=\"https://colab.research.google.com/assets/colab-badge.svg\" alt=\"Open In Colab\"/></a>"
      ]
    },
    {
      "cell_type": "code",
      "source": [
        "!pip install youtube_transcript_api"
      ],
      "metadata": {
        "colab": {
          "base_uri": "https://localhost:8080/"
        },
        "id": "Zk3db1KFDBi0",
        "outputId": "68488cea-3cd6-4e82-9895-8209b8deb9d1"
      },
      "execution_count": 2,
      "outputs": [
        {
          "output_type": "stream",
          "name": "stdout",
          "text": [
            "Collecting youtube_transcript_api\n",
            "  Downloading youtube_transcript_api-1.0.1-py3-none-any.whl.metadata (22 kB)\n",
            "Requirement already satisfied: defusedxml<0.8.0,>=0.7.1 in /usr/local/lib/python3.11/dist-packages (from youtube_transcript_api) (0.7.1)\n",
            "Requirement already satisfied: requests in /usr/local/lib/python3.11/dist-packages (from youtube_transcript_api) (2.32.3)\n",
            "Requirement already satisfied: charset-normalizer<4,>=2 in /usr/local/lib/python3.11/dist-packages (from requests->youtube_transcript_api) (3.4.1)\n",
            "Requirement already satisfied: idna<4,>=2.5 in /usr/local/lib/python3.11/dist-packages (from requests->youtube_transcript_api) (3.10)\n",
            "Requirement already satisfied: urllib3<3,>=1.21.1 in /usr/local/lib/python3.11/dist-packages (from requests->youtube_transcript_api) (2.3.0)\n",
            "Requirement already satisfied: certifi>=2017.4.17 in /usr/local/lib/python3.11/dist-packages (from requests->youtube_transcript_api) (2025.1.31)\n",
            "Downloading youtube_transcript_api-1.0.1-py3-none-any.whl (1.9 MB)\n",
            "\u001b[2K   \u001b[90m━━━━━━━━━━━━━━━━━━━━━━━━━━━━━━━━━━━━━━━━\u001b[0m \u001b[32m1.9/1.9 MB\u001b[0m \u001b[31m18.6 MB/s\u001b[0m eta \u001b[36m0:00:00\u001b[0m\n",
            "\u001b[?25hInstalling collected packages: youtube_transcript_api\n",
            "Successfully installed youtube_transcript_api-1.0.1\n"
          ]
        }
      ]
    },
    {
      "cell_type": "code",
      "source": [
        "from google import genai\n",
        "from google.genai import types\n",
        "\n",
        "client = genai.Client(api_key=GOOGLE_API_KEY)"
      ],
      "metadata": {
        "id": "bQzrEni1FaL_"
      },
      "execution_count": 9,
      "outputs": []
    },
    {
      "cell_type": "code",
      "execution_count": 13,
      "metadata": {
        "colab": {
          "base_uri": "https://localhost:8080/"
        },
        "id": "h_gdTlC0C_Bx",
        "outputId": "d0e40894-b494-4b71-8cec-1f7abf52997e"
      },
      "outputs": [
        {
          "output_type": "stream",
          "name": "stdout",
          "text": [
            "Transcript:\n",
            " hi guys today I'm going to introduce you what is machine learning uh these are my presentation content what is machine learning what are the different applications of machine learning different types of machine learning and how to build a machine learning system or model then various kinds of algorithms and later on in this series we are going to take a Hands-On you know case studies or doing programming for various kinds of up algorithms so what is machine learning so machine learning is nothin\n"
          ]
        }
      ],
      "source": [
        "from youtube_transcript_api import YouTubeTranscriptApi\n",
        "\n",
        "def get_youtube_transcript(video_url):\n",
        "\n",
        "    \"\"\"Fetches the transcript of a YouTube video.\"\"\"\n",
        "\n",
        "    video_id = video_url.split(\"v=\")[1].split(\"&\")[0]  # Extract video ID\n",
        "\n",
        "    transcript = YouTubeTranscriptApi.get_transcript(video_id)\n",
        "\n",
        "    full_text = \" \".join([t[\"text\"] for t in transcript])\n",
        "\n",
        "    return full_text\n",
        "\n",
        "\n",
        "video_url = \"https://www.youtube.com/watch?v=unYDoA8QGH0&list=PLWEpztHwA4ZT2QlHC74oIz4MsawcvE-QX\"\n",
        "video_transcript = get_youtube_transcript(video_url)\n",
        "print(\"Transcript:\\n\", video_transcript[:500])  # Show first 500 characters\n"
      ]
    },
    {
      "cell_type": "code",
      "source": [
        "import google.generativeai as genai\n",
        "from google.colab import userdata\n",
        "\n",
        "GOOGLE_API_KEY=userdata.get(\"GOOGLE_API_KEY\")\n",
        "genai.configure(api_key=GOOGLE_API_KEY)"
      ],
      "metadata": {
        "id": "p8twP-vBFaG4"
      },
      "execution_count": 16,
      "outputs": []
    },
    {
      "cell_type": "code",
      "source": [
        "\n",
        "def summarize_video(text):\n",
        "\n",
        "\n",
        "    \"\"\"Summarizes the YouTube video transcript using Gemini AI.\"\"\"\n",
        "\n",
        "    model = genai.GenerativeModel(\"gemini-1.5-flash\")\n",
        "\n",
        "    prompt = f\"Summarize the following YouTube video transcript:\\n\\n{text}\"\n",
        "\n",
        "    response = model.generate_content(prompt)\n",
        "\n",
        "    return response.text\n",
        "\n",
        "summary = summarize_video(video_transcript)\n",
        "print(\"Summary:\\n\", summary)\n"
      ],
      "metadata": {
        "colab": {
          "base_uri": "https://localhost:8080/",
          "height": 165
        },
        "id": "RXzJnQl7DLHW",
        "outputId": "6260bc45-f675-4ad1-d411-650ff2448116"
      },
      "execution_count": 17,
      "outputs": [
        {
          "output_type": "stream",
          "name": "stdout",
          "text": [
            "Summary:\n",
            " This YouTube video introduces machine learning, covering its definition, applications, types, and the process of building a machine learning model.  Machine learning is defined as learning from data, a subfield of AI enabling smarter applications.  The video highlights applications in speech recognition, web search, recommendation systems, computer vision, information retrieval, and fraud detection.\n",
            "\n",
            "Three main types of machine learning are explained: supervised (learning from labeled data, including classification and regression), unsupervised (learning from unlabeled data, such as clustering and dimensionality reduction), and reinforcement learning (learning through trial and error with rewards and penalties).\n",
            "\n",
            "The video details the process of building a machine learning model, emphasizing data preprocessing (cleaning, scaling, encoding, feature selection), algorithm selection (different algorithms for classification and regression), model building, and evaluation.  The presenter promises future videos with hands-on case studies and algorithm implementations, focusing on the Iris dataset as a practical example.  Key terms like features, attributes, samples, target variable, and the workflow of a machine learning pipeline are also explained.\n",
            "\n"
          ]
        }
      ]
    },
    {
      "cell_type": "code",
      "source": [
        "def extract_video_insights(text):\n",
        "\n",
        "    \"\"\"Extracts key insights from the YouTube video transcript.\"\"\"\n",
        "\n",
        "    model = genai.GenerativeModel(\"gemini-1.5-flash\")\n",
        "\n",
        "    prompt = f\"Extract the key takeaways and insights from this YouTube video:\\n\\n{text}\"\n",
        "\n",
        "    response = model.generate_content(prompt)\n",
        "\n",
        "    return response.text\n",
        "\n",
        "insights = extract_video_insights(video_transcript)\n",
        "\n",
        "print(\"Key Insights:\\n\", insights)\n",
        "\n",
        "\n",
        "\n",
        "\n"
      ],
      "metadata": {
        "colab": {
          "base_uri": "https://localhost:8080/",
          "height": 876
        },
        "id": "IKzEGV2jFAND",
        "outputId": "67bd4274-dc0b-4f8e-fccb-331dd9db5bcb"
      },
      "execution_count": 18,
      "outputs": [
        {
          "output_type": "stream",
          "name": "stdout",
          "text": [
            "Key Insights:\n",
            " This YouTube video provides an introduction to machine learning.  Here are the key takeaways and insights:\n",
            "\n",
            "**What is Machine Learning?**\n",
            "\n",
            "* **Definition:** Machine learning is essentially learning from data. It's a subfield of artificial intelligence that allows computers to learn from experience (data) without explicit programming.  This learning process improves the system's performance on a specific task over time.\n",
            "* **Core Concept:**  The process involves using algorithms to build a model from training data. This model then predicts future outcomes or makes inferences about new, unseen data.\n",
            "\n",
            "**Applications of Machine Learning:**\n",
            "\n",
            "The video highlights a broad range of applications, demonstrating the versatility of machine learning:\n",
            "\n",
            "* **Speech Recognition:**  Powering virtual assistants like Siri and Google Assistant.\n",
            "* **Web Search:**  Improving search engine results using algorithms like Naive Bayes.\n",
            "* **Recommendation Systems:**  Suggesting products or content based on user preferences.\n",
            "* **Computer Vision:**  Enabling computers to \"see\" and understand images and videos, identifying objects and scenes.\n",
            "* **Information Retrieval:**  Optimizing search results in systems like Google to deliver relevant information from vast datasets.\n",
            "* **Fraud Detection:** Identifying malicious activities online.\n",
            "\n",
            "\n",
            "**Types of Machine Learning:**\n",
            "\n",
            "The video categorizes machine learning into three main types:\n",
            "\n",
            "* **Supervised Learning:**  The algorithm learns from labeled data, where the desired outcome is known. This is further divided into:\n",
            "    * **Classification:** Predicting categorical outcomes (e.g., spam/not spam, types of flowers).\n",
            "    * **Regression:** Predicting continuous outcomes (e.g., salary, temperature).\n",
            "* **Unsupervised Learning:** The algorithm learns from unlabeled data, identifying patterns and structures within the data. Examples include clustering (grouping similar data points) and dimensionality reduction (reducing the number of variables).\n",
            "* **Reinforcement Learning:** The algorithm learns through trial and error, receiving rewards or penalties for its actions in an environment.  This is often used in game playing and robotics.\n",
            "\n",
            "**Building a Machine Learning Model:**\n",
            "\n",
            "The video outlines a typical workflow:\n",
            "\n",
            "1. **Data Preprocessing:** Cleaning, scaling, encoding, and selecting relevant features from the raw data.\n",
            "2. **Algorithm Selection:** Choosing an appropriate algorithm based on the problem type (classification, regression, etc.) and data characteristics.\n",
            "3. **Model Building:** Training the chosen algorithm on the prepared data.\n",
            "4. **Model Evaluation:** Assessing the model's performance using metrics like accuracy.  The speaker emphasizes building multiple models and comparing their results for better reliability.\n",
            "\n",
            "**Key Terms:**\n",
            "\n",
            "The video defines important terms like features, attributes, samples, instances, observations, target variable, and response variable, emphasizing the need for understanding these terms in the context of machine learning datasets.  The Iris dataset is presented as a common example for practical experience.\n",
            "\n",
            "\n",
            "In essence, the video serves as a foundational introduction, covering the core concepts, applications, and process of machine learning.  It emphasizes the importance of hands-on practice and building multiple models for robust results.\n",
            "\n"
          ]
        }
      ]
    },
    {
      "cell_type": "code",
      "source": [],
      "metadata": {
        "id": "UVZsVsokG5C_"
      },
      "execution_count": null,
      "outputs": []
    }
  ]
}